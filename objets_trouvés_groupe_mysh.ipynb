{
  "nbformat": 4,
  "nbformat_minor": 0,
  "metadata": {
    "colab": {
      "provenance": [],
      "collapsed_sections": [],
      "include_colab_link": true
    },
    "kernelspec": {
      "name": "python3",
      "display_name": "Python 3"
    },
    "language_info": {
      "name": "python"
    }
  },
  "cells": [
    {
      "cell_type": "markdown",
      "metadata": {
        "id": "view-in-github",
        "colab_type": "text"
      },
      "source": [
        "<a href=\"https://colab.research.google.com/github/MalekBhz/GoWithMe/blob/main/objets_trouv%C3%A9s_groupe_mysh.ipynb\" target=\"_parent\"><img src=\"https://colab.research.google.com/assets/colab-badge.svg\" alt=\"Open In Colab\"/></a>"
      ]
    },
    {
      "cell_type": "code",
      "execution_count": null,
      "metadata": {
        "id": "aSex0XSPMYMf"
      },
      "outputs": [],
      "source": [
        "!pip install pyspark py4j"
      ]
    },
    {
      "cell_type": "code",
      "source": [
        "from pyspark.sql import SparkSession\n",
        "\n",
        "spark = SparkSession.builder.appName(\"objets-trouvés\").getOrCreate()\n",
        "\n",
        "spark"
      ],
      "metadata": {
        "colab": {
          "base_uri": "https://localhost:8080/",
          "height": 221
        },
        "id": "ykyiDd-ZOFkM",
        "outputId": "28654f22-b195-40f7-f4a1-44dec166cbc0"
      },
      "execution_count": null,
      "outputs": [
        {
          "output_type": "execute_result",
          "data": {
            "text/plain": [
              "<pyspark.sql.session.SparkSession at 0x7f97db2bca50>"
            ],
            "text/html": [
              "\n",
              "            <div>\n",
              "                <p><b>SparkSession - in-memory</b></p>\n",
              "                \n",
              "        <div>\n",
              "            <p><b>SparkContext</b></p>\n",
              "\n",
              "            <p><a href=\"http://1529cd1ec10a:4040\">Spark UI</a></p>\n",
              "\n",
              "            <dl>\n",
              "              <dt>Version</dt>\n",
              "                <dd><code>v3.3.0</code></dd>\n",
              "              <dt>Master</dt>\n",
              "                <dd><code>local[*]</code></dd>\n",
              "              <dt>AppName</dt>\n",
              "                <dd><code>objets-trouvés</code></dd>\n",
              "            </dl>\n",
              "        </div>\n",
              "        \n",
              "            </div>\n",
              "        "
            ]
          },
          "metadata": {},
          "execution_count": 2
        }
      ]
    },
    {
      "cell_type": "code",
      "source": [
        "sc = spark.sparkContext\n",
        "sc"
      ],
      "metadata": {
        "colab": {
          "base_uri": "https://localhost:8080/",
          "height": 197
        },
        "id": "MyX9VfqTPU_l",
        "outputId": "d9b5d80a-3c70-4e3c-f36d-3eb52270c656"
      },
      "execution_count": null,
      "outputs": [
        {
          "output_type": "execute_result",
          "data": {
            "text/plain": [
              "<SparkContext master=local[*] appName=objets-trouvés>"
            ],
            "text/html": [
              "\n",
              "        <div>\n",
              "            <p><b>SparkContext</b></p>\n",
              "\n",
              "            <p><a href=\"http://1529cd1ec10a:4040\">Spark UI</a></p>\n",
              "\n",
              "            <dl>\n",
              "              <dt>Version</dt>\n",
              "                <dd><code>v3.3.0</code></dd>\n",
              "              <dt>Master</dt>\n",
              "                <dd><code>local[*]</code></dd>\n",
              "              <dt>AppName</dt>\n",
              "                <dd><code>objets-trouvés</code></dd>\n",
              "            </dl>\n",
              "        </div>\n",
              "        "
            ]
          },
          "metadata": {},
          "execution_count": 3
        }
      ]
    },
    {
      "cell_type": "code",
      "source": [
        "from pyspark.shell import spark\n",
        "\n",
        "objetstrouves  = spark\\\n",
        "  .read\\\n",
        "  .option(\"inferSchema\", \"true\")\\\n",
        "  .option(\"delimiter\", \";\")\\\n",
        "  .option(\"header\", \"true\")\\\n",
        "  .csv(\"/content/objets-trouves-restitution.csv\")\\\n",
        "\n",
        "objetstrouves.show()\n"
      ],
      "metadata": {
        "colab": {
          "base_uri": "https://localhost:8080/"
        },
        "id": "l7hMJcCkBV_c",
        "outputId": "977843e3-4473-4399-993d-81e3c1e93f0f"
      },
      "execution_count": null,
      "outputs": [
        {
          "output_type": "stream",
          "name": "stdout",
          "text": [
            "+-------------------+----------------------------+--------------------+--------+--------------------+--------------------+---------------------+\n",
            "|               Date|Date et heure de restitution|                Gare|Code UIC|     Nature d'objets|       Type d'objets|Type d'enregistrement|\n",
            "+-------------------+----------------------------+--------------------+--------+--------------------+--------------------+---------------------+\n",
            "|2022-01-01 07:03:34|         2022-01-22 11:23:48|        Lille Europe|87223263|  Téléphone portable|Appareils électro...|         Objet trouvé|\n",
            "|2022-01-01 10:23:21|         2022-01-02 10:37:01|           Perpignan|87784009|Sac d'enseigne (p...|Bagagerie: sacs, ...|         Objet trouvé|\n",
            "|2022-01-01 10:55:22|         2022-01-27 10:49:05|        Lille Europe|87223263|           Sac à dos|Bagagerie: sacs, ...|         Objet trouvé|\n",
            "|2022-01-01 11:26:54|         2022-01-03 13:14:27|                 Dax|87673202|           Sac à dos|Bagagerie: sacs, ...|         Objet trouvé|\n",
            "|2022-01-01 11:31:53|         2022-01-01 15:24:14|Marseille Saint-C...|87751008|Autre pièce ou pa...|Pièces d'identité...|         Objet trouvé|\n",
            "|2022-01-01 13:51:15|         2022-01-01 14:24:29|Marseille Saint-C...|87751008|Valise, sac sur r...|Bagagerie: sacs, ...|         Objet trouvé|\n",
            "|2022-01-01 14:59:30|         2022-01-03 15:22:28|  Paris Gare de Lyon|87686006|           Sac à dos|Bagagerie: sacs, ...|         Objet trouvé|\n",
            "|2022-01-01 15:31:33|         2022-01-03 10:52:58| Bordeaux Saint-Jean|87581009|Sacoche ventrale,...|Bagagerie: sacs, ...|         Objet trouvé|\n",
            "|2022-01-01 17:30:22|         2022-01-12 09:38:14|                Agen|87586008|           Sac à dos|Bagagerie: sacs, ...|         Objet trouvé|\n",
            "|2022-01-01 17:58:01|         2022-01-08 17:16:42|   Rouen Rive Droite|87411017|  Téléphone portable|Appareils électro...|         Objet trouvé|\n",
            "|2022-01-01 18:25:20|         2022-01-12 12:32:02|      Lyon Part Dieu|87723197|Sacoche ventrale,...|Bagagerie: sacs, ...|         Objet trouvé|\n",
            "|2022-01-01 21:48:40|         2022-01-03 10:19:19|  Paris Saint-Lazare|87384008|Téléphone portabl...|Appareils électro...|         Objet trouvé|\n",
            "|2022-01-01 22:40:39|         2022-01-02 16:39:06|           Tourcoing|87286542|           Sac à dos|Bagagerie: sacs, ...|         Objet trouvé|\n",
            "|2022-01-02 09:53:59|         2022-01-04 17:06:00|Marseille Saint-C...|87751008|           Sac à dos|Bagagerie: sacs, ...|         Objet trouvé|\n",
            "|2022-01-02 10:10:43|         2022-01-05 14:16:34|Marseille Saint-C...|87751008|Ordinateur, ordin...|Appareils électro...|         Objet trouvé|\n",
            "|2022-01-02 11:35:20|         2022-01-02 13:05:44| Bordeaux Saint-Jean|87581009|Sac de voyage, sa...|Bagagerie: sacs, ...|         Objet trouvé|\n",
            "|2022-01-02 13:43:39|         2022-01-02 14:58:37|Marseille Saint-C...|87751008|           Sac à dos|Bagagerie: sacs, ...|         Objet trouvé|\n",
            "|2022-01-02 15:48:42|         2022-01-02 15:53:03|  Paris Gare de Lyon|87686006|Ordinateur, ordin...|Appareils électro...|         Objet trouvé|\n",
            "|2022-01-02 15:56:21|         2022-02-08 09:09:38|           Massy TGV|87393702|  Téléphone portable|Appareils électro...|         Objet trouvé|\n",
            "|2022-01-02 15:56:47|         2022-01-02 16:05:46|          Strasbourg|87212027|          Sac à main|Bagagerie: sacs, ...|         Objet trouvé|\n",
            "+-------------------+----------------------------+--------------------+--------+--------------------+--------------------+---------------------+\n",
            "only showing top 20 rows\n",
            "\n"
          ]
        }
      ]
    },
    {
      "cell_type": "markdown",
      "source": [
        "# Nouvelle section"
      ],
      "metadata": {
        "id": "boemrhanL7Ny"
      }
    },
    {
      "cell_type": "markdown",
      "source": [
        "# Nouvelle section"
      ],
      "metadata": {
        "id": "MVb3q8G-MQFe"
      }
    },
    {
      "cell_type": "markdown",
      "source": [
        "#Objets les plus trouvés\n"
      ],
      "metadata": {
        "id": "UdsOETPLDTSn"
      }
    },
    {
      "cell_type": "code",
      "source": [
        "from pyspark.sql.functions import col\n",
        "\n",
        "lostObjectsNature = objetstrouves.select(\"Nature d'objets\")\n",
        "countsObjectsNature = lostObjectsNature.groupby(\n",
        "    col(\"Nature d'objets\")).count()\n",
        "countsObjectsNature.orderBy(\"count\", ascending=False).show(truncate=100)"
      ],
      "metadata": {
        "colab": {
          "base_uri": "https://localhost:8080/"
        },
        "id": "tW9CZLk7DRqt",
        "outputId": "2867ca1e-c597-472b-c343-834533829b53"
      },
      "execution_count": null,
      "outputs": [
        {
          "output_type": "stream",
          "name": "stdout",
          "text": [
            "+------------------------------------------------------------------+-----+\n",
            "|                                                   Nature d'objets|count|\n",
            "+------------------------------------------------------------------+-----+\n",
            "|                                                         Sac à dos|  390|\n",
            "|                                       Porte-monnaie, portefeuille|  312|\n",
            "|                                         Valise, sac sur roulettes|  284|\n",
            "|                    Sac de voyage, sac de sport, sac à bandoulière|  183|\n",
            "|                        Téléphone portable protégé (étui, coque,…)|  155|\n",
            "|                                                        Sac à main|  152|\n",
            "|                                                Téléphone portable|  127|\n",
            "|                             Sac d'enseigne (plastique, papier, …)|   86|\n",
            "|                   Carte d'identité, passeport, permis de conduire|   65|\n",
            "|                      Manteau, veste, blazer, parka, blouson, cape|   49|\n",
            "|Ordinateur, ordinateur portable, notebook protégé (étui, housse,…)|   45|\n",
            "|                                          Sacoche ventrale, banane|   42|\n",
            "|                         Ordinateur, ordinateur portable, notebook|   35|\n",
            "|                          Tablette tactile protégée (étui, housse)|   26|\n",
            "|                                                    Clé de voiture|   22|\n",
            "|                                                   Carte de crédit|   21|\n",
            "|                                                     Autres divers|   19|\n",
            "|                             Sacoche pour ordinateur, photo, vidéo|   19|\n",
            "|                                                  Clés, porte-clés|   17|\n",
            "|                                                          Lunettes|   16|\n",
            "+------------------------------------------------------------------+-----+\n",
            "only showing top 20 rows\n",
            "\n"
          ]
        }
      ]
    },
    {
      "cell_type": "markdown",
      "source": [
        "#Top 5 villes qui trouvent le plus d'objets"
      ],
      "metadata": {
        "id": "K_-AbnPOEbqk"
      }
    },
    {
      "cell_type": "code",
      "source": [
        "top5stations = objetstrouves.groupby(\n",
        "    col(\"Gare\")\n",
        "    ).count().orderBy(\"count\", ascending = False)\n",
        "top5stations.show(5)"
      ],
      "metadata": {
        "colab": {
          "base_uri": "https://localhost:8080/"
        },
        "id": "-0OvWTJHEesg",
        "outputId": "799f09dc-ff77-4eb0-da7f-6b55decf276e"
      },
      "execution_count": null,
      "outputs": [
        {
          "output_type": "stream",
          "name": "stdout",
          "text": [
            "+-------------------+-----+\n",
            "|               Gare|count|\n",
            "+-------------------+-----+\n",
            "| Paris Gare de Lyon|  196|\n",
            "| Paris Montparnasse|  181|\n",
            "| Paris Saint-Lazare|  138|\n",
            "| Paris Gare du Nord|  113|\n",
            "|Bordeaux Saint-Jean|   98|\n",
            "+-------------------+-----+\n",
            "only showing top 5 rows\n",
            "\n"
          ]
        }
      ]
    },
    {
      "cell_type": "markdown",
      "source": [
        "# Types d'objets les plus trouvés"
      ],
      "metadata": {
        "id": "ealcQ9t7HwfG"
      }
    },
    {
      "cell_type": "markdown",
      "source": [
        "# Types d'objets trouvés par gare"
      ],
      "metadata": {
        "id": "47VMSR1xIwkH"
      }
    },
    {
      "cell_type": "code",
      "source": [
        "import pyspark.sql.functions as f\n",
        "from pyspark.sql.functions import split\n",
        "\n",
        "foundByStation = objetstrouves.groupby(\n",
        "    col(\"Gare\"), \n",
        "    col(\"Type d'objets\")\n",
        "    ).count().orderBy(\"count\", ascending=False)\n",
        "foundByStation = foundByStation.withColumn(\"ville\",split(foundByStation[\"Gare\"],\" \").getItem(0))\n",
        "foundByStation.show()\n"
      ],
      "metadata": {
        "colab": {
          "base_uri": "https://localhost:8080/"
        },
        "id": "rpGQJVUWJHZd",
        "outputId": "5f77a283-5818-4a27-9185-375719ede5da"
      },
      "execution_count": null,
      "outputs": [
        {
          "output_type": "stream",
          "name": "stdout",
          "text": [
            "+--------------------+--------------------+-----+----------+\n",
            "|                Gare|       Type d'objets|count|     ville|\n",
            "+--------------------+--------------------+-----+----------+\n",
            "|  Paris Montparnasse|Bagagerie: sacs, ...|   98|     Paris|\n",
            "|  Paris Gare de Lyon|Bagagerie: sacs, ...|   94|     Paris|\n",
            "|Marseille Saint-C...|Bagagerie: sacs, ...|   57| Marseille|\n",
            "| Bordeaux Saint-Jean|Bagagerie: sacs, ...|   54|  Bordeaux|\n",
            "|  Paris Gare du Nord|Bagagerie: sacs, ...|   53|     Paris|\n",
            "|  Paris Saint-Lazare|Bagagerie: sacs, ...|   48|     Paris|\n",
            "|  Paris Gare de Lyon|Appareils électro...|   45|     Paris|\n",
            "|       Lyon Perrache|Bagagerie: sacs, ...|   42|      Lyon|\n",
            "|      Lyon Part Dieu|Bagagerie: sacs, ...|   40|      Lyon|\n",
            "|          Strasbourg|Bagagerie: sacs, ...|   37|Strasbourg|\n",
            "|        Lille Europe|Bagagerie: sacs, ...|   37|     Lille|\n",
            "|              Rennes|Bagagerie: sacs, ...|   36|    Rennes|\n",
            "|              Nantes|Bagagerie: sacs, ...|   35|    Nantes|\n",
            "|   Toulouse Matabiau|Bagagerie: sacs, ...|   34|  Toulouse|\n",
            "|  Paris Gare du Nord|Appareils électro...|   30|     Paris|\n",
            "|  Paris Montparnasse|Porte-monnaie / p...|   28|     Paris|\n",
            "|  Paris Gare de Lyon|Porte-monnaie / p...|   26|     Paris|\n",
            "|  Paris Saint-Lazare|Porte-monnaie / p...|   26|     Paris|\n",
            "|  Paris Montparnasse|Appareils électro...|   25|     Paris|\n",
            "|  Paris Saint-Lazare|Pièces d'identité...|   21|     Paris|\n",
            "+--------------------+--------------------+-----+----------+\n",
            "only showing top 20 rows\n",
            "\n"
          ]
        }
      ]
    },
    {
      "cell_type": "markdown",
      "source": [
        "#Top 5 villes qui trouvent le plus d'objet"
      ],
      "metadata": {
        "id": "zzN-bo3BmgHn"
      }
    },
    {
      "cell_type": "code",
      "source": [
        "foundByStation.createOrReplaceTempView(\"foundByStation\") \n",
        "\n",
        "query=spark.sql(\"\"\"SELECT ville,sum(count) as count FROM foundByStation group by ville order by count desc\"\"\")\n",
        "query.show(5)\n"
      ],
      "metadata": {
        "colab": {
          "base_uri": "https://localhost:8080/"
        },
        "id": "NknPRxp3lnP7",
        "outputId": "6bfc11ce-f8c1-4f43-b381-d11fe42b65ea"
      },
      "execution_count": null,
      "outputs": [
        {
          "output_type": "stream",
          "name": "stdout",
          "text": [
            "+---------+-----+\n",
            "|    ville|count|\n",
            "+---------+-----+\n",
            "|    Paris|  691|\n",
            "|     Lyon|  153|\n",
            "| Bordeaux|   98|\n",
            "|   Rennes|   87|\n",
            "|Marseille|   86|\n",
            "+---------+-----+\n",
            "only showing top 5 rows\n",
            "\n"
          ]
        }
      ]
    },
    {
      "cell_type": "markdown",
      "source": [
        "#Sur toutes les villes la liste de tous les objets trouvés"
      ],
      "metadata": {
        "id": "Ld-fsNMj4vGv"
      }
    },
    {
      "cell_type": "code",
      "source": [
        "import pyspark.sql.functions as f\n",
        "from pyspark.sql.functions import split\n",
        "from pyspark.sql.functions import col\n",
        "from pyspark.sql.functions import col\n",
        "foundByStation = objetstrouves.groupby(\n",
        "    col(\"Gare\"), \n",
        "    col(\"Type d'objets\")\n",
        "    ).count().orderBy(\"count\", ascending=False)\n",
        "foundByStation = foundByStation.withColumn(\"ville\",split(foundByStation[\"Gare\"],\" \").getItem(0))\n",
        "\n",
        "data = foundByStation.select(col(\"Type d'objets\").alias('type_objet'),col(\"Gare\"),col(\"count\"),col(\"ville\"))\n",
        "# data.show()\n",
        "data.createOrReplaceTempView(\"data\") \n",
        "query=spark.sql(\"\"\"SELECT ville, array_agg(type_objet),sum(count) FROM data group by ville\"\"\")\n",
        "query.show()\n",
        "\n",
        "\n",
        "\n"
      ],
      "metadata": {
        "colab": {
          "base_uri": "https://localhost:8080/"
        },
        "id": "71_gVgUjm9QI",
        "outputId": "49995cc6-abbf-4385-d1a1-690951cf5aaa"
      },
      "execution_count": null,
      "outputs": [
        {
          "output_type": "stream",
          "name": "stdout",
          "text": [
            "+----------------+------------------------+----------+\n",
            "|           ville|collect_list(type_objet)|sum(count)|\n",
            "+----------------+------------------------+----------+\n",
            "|       Granville|    [Bagagerie: sacs,...|         8|\n",
            "| Bourg-en-Bresse|    [Appareils électr...|         1|\n",
            "|              Le|    [Bagagerie: sacs,...|        26|\n",
            "|            Nice|    [Bagagerie: sacs,...|        27|\n",
            "|   Saint-Quentin|    [Bagagerie: sacs,...|         5|\n",
            "|     Montpellier|    [Bagagerie: sacs,...|        53|\n",
            "|         Avignon|    [Bagagerie: sacs,...|        15|\n",
            "|   Saint-Nazaire|    [Bagagerie: sacs,...|        12|\n",
            "|           Dijon|    [Bagagerie: sacs,...|        25|\n",
            "|          Toulon|    [Bagagerie: sacs,...|         5|\n",
            "|        Grenoble|    [Bagagerie: sacs,...|        13|\n",
            "|        Chartres|    [Bagagerie: sacs,...|         6|\n",
            "|       Trouville|    [Bagagerie: sacs,...|         1|\n",
            "|        Boulogne|    [Bagagerie: sacs,...|         7|\n",
            "|          Angers|    [Bagagerie: sacs,...|        12|\n",
            "|       Dunkerque|    [Bagagerie: sacs,...|         6|\n",
            "|           Lille|    [Bagagerie: sacs,...|        74|\n",
            "|Clermont-Ferrand|    [Bagagerie: sacs,...|        12|\n",
            "|          Nantes|    [Bagagerie: sacs,...|        64|\n",
            "|       Marseille|    [Bagagerie: sacs,...|        86|\n",
            "+----------------+------------------------+----------+\n",
            "only showing top 20 rows\n",
            "\n"
          ]
        }
      ]
    },
    {
      "cell_type": "markdown",
      "source": [
        "#Objets Trouvés par mois"
      ],
      "metadata": {
        "id": "SqlEhkF3KKru"
      }
    },
    {
      "cell_type": "code",
      "source": [
        "from pyspark.sql.functions import month, mean, count\n",
        "\n",
        "objectsFoundByMonth = (objetstrouves\n",
        "                       .groupby(month(\"Date\").alias(\"Month\"))\n",
        "                       .agg(count(\"Date\").alias(\"count\")))\n",
        "\n",
        "objectsFoundByMonth.withColumnRenamed(\"count\",\"objet_trouvé\").show()\n"
      ],
      "metadata": {
        "colab": {
          "base_uri": "https://localhost:8080/"
        },
        "id": "5yLyrnLmKQtf",
        "outputId": "56d45a80-c0c6-4adf-bb32-0bf400d56019"
      },
      "execution_count": null,
      "outputs": [
        {
          "output_type": "stream",
          "name": "stdout",
          "text": [
            "+-----+------------+\n",
            "|Month|objet_trouvé|\n",
            "+-----+------------+\n",
            "|   12|           1|\n",
            "|    1|        2336|\n",
            "+-----+------------+\n",
            "\n"
          ]
        }
      ]
    }
  ]
}